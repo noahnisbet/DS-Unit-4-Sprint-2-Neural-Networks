{
  "nbformat": 4,
  "nbformat_minor": 0,
  "metadata": {
    "colab": {
      "name": "LS_DS_432_TensorFlow_Assignment",
      "provenance": [],
      "collapsed_sections": [],
      "toc_visible": true
    },
    "kernelspec": {
      "name": "python3",
      "display_name": "Python 3"
    },
    "accelerator": "GPU"
  },
  "cells": [
    {
      "cell_type": "markdown",
      "metadata": {
        "id": "ObyHCH8HvHSf"
      },
      "source": [
        "<img align=\"left\" src=\"https://lever-client-logos.s3.amazonaws.com/864372b1-534c-480e-acd5-9711f850815c-1524247202159.png\" width=200>\n",
        "<br></br>\n",
        "<br></br>\n",
        "\n",
        "# *Data Science Unit 4 Sprint 2 Assignment 1*\n",
        "\n",
        "Use TensorFlow Keras & a sample of the [Quickdraw dataset](https://github.com/googlecreativelab/quickdraw-dataset) to build a sketch classification model. The dataset has been sampled to only 10 classes and 10000 observations per class. Please build a baseline classification model then run a few experiments with different optimizers and learning rates. \n",
        "\n",
        "*Don't forgot to switch to GPU on Colab!*"
      ]
    },
    {
      "cell_type": "markdown",
      "metadata": {
        "id": "s-Tc3ovEyQ9b"
      },
      "source": [
        "## Load Your Data"
      ]
    },
    {
      "cell_type": "code",
      "metadata": {
        "id": "Yr0cl6l2aRmk"
      },
      "source": [
        ""
      ],
      "execution_count": 46,
      "outputs": []
    },
    {
      "cell_type": "code",
      "metadata": {
        "id": "CkU0pAYCvU8o",
        "colab": {
          "base_uri": "https://localhost:8080/"
        },
        "outputId": "3b7f7413-e72c-4d6c-fc6e-d0431ed1e99d"
      },
      "source": [
        "import numpy as np\n",
        "import tensorflow as tf \n",
        "\n",
        "data = np.load('quickdraw10.npz')\n",
        "X = data['arr_0']\n",
        "y = data['arr_1']\n",
        "\n",
        "print(X.shape)\n",
        "print(y.shape)"
      ],
      "execution_count": 47,
      "outputs": [
        {
          "output_type": "stream",
          "text": [
            "(100000, 784)\n",
            "(100000,)\n"
          ],
          "name": "stdout"
        }
      ]
    },
    {
      "cell_type": "code",
      "metadata": {
        "id": "c8qsDqdqvHDd"
      },
      "source": [
        "class_names = ['apple',\n",
        " 'anvil',\n",
        " 'airplane',\n",
        " 'banana',\n",
        " 'The Eiffel Tower',\n",
        " 'The Mona Lisa',\n",
        " 'The Great Wall of China',\n",
        " 'alarm clock',\n",
        " 'ant',\n",
        " 'asparagus']"
      ],
      "execution_count": 48,
      "outputs": []
    },
    {
      "cell_type": "code",
      "metadata": {
        "id": "Owbm1EbxvA5A",
        "colab": {
          "base_uri": "https://localhost:8080/",
          "height": 289
        },
        "outputId": "b1af3f4c-d8db-4086-f3be-2e7e20771213"
      },
      "source": [
        "import matplotlib.pyplot as plt\n",
        "plt.figure(figsize=(10,5))\n",
        "start = 0\n",
        "\n",
        "for num, name in enumerate(class_names):\n",
        "    plt.subplot(2,5, num+1)\n",
        "    plt.xticks([])\n",
        "    plt.yticks([])\n",
        "    plt.grid(False)\n",
        "    plt.imshow(X[start].reshape(28,28), cmap=plt.cm.binary)\n",
        "    plt.xlabel(name)\n",
        "    start += 10000\n",
        "plt.show()"
      ],
      "execution_count": 49,
      "outputs": [
        {
          "output_type": "display_data",
          "data": {
            "image/png": "[encoded data removed]",
            "text/plain": [
              "<Figure size 720x360 with 10 Axes>"
            ]
          },
          "metadata": {
            "tags": []
          }
        }
      ]
    },
    {
      "cell_type": "code",
      "metadata": {
        "id": "c97_M1WNvTNY"
      },
      "source": [
        "# Need this line to randomly shuffle both the X & y at the same time.\n",
        "\n",
        "from sklearn.utils import shuffle\n",
        "X, y = shuffle(X, y)"
      ],
      "execution_count": 50,
      "outputs": []
    },
    {
      "cell_type": "markdown",
      "metadata": {
        "id": "jb70CbLVyK65"
      },
      "source": [
        "## Build Your Baseline Model\n",
        "Some Hints:\n",
        "\n",
        "\n",
        "*  Model should have 784 input values (like mnist)\n",
        "*  Use `sparse_categorical_crossentropy` as your loss function.\n",
        "* You need 10 neurons in your last layer for output\n",
        "* You can add as many hidden layers with as many neurons in them as you like. \n",
        "* Limit your model epochs to 30 each time you fit.\n",
        "* You can use the `validation_split` command to automatically create a training / validation dataset.  Specify a percentage such as .2 in your fit statement. \n",
        "\n"
      ]
    },
    {
      "cell_type": "code",
      "metadata": {
        "id": "zHWblzsMyNkU",
        "colab": {
          "base_uri": "https://localhost:8080/"
        },
        "outputId": "8b922d94-2c54-4c06-8635-584c5af6bec2"
      },
      "source": [
        "import tensorflow as tf\n",
        "from tensorflow.keras.models import Sequential\n",
        "from tensorflow.keras.layers import Dense\n",
        "\n",
        "model = Sequential()\n",
        "model.add(Dense(10,input_dim= 784, activation='softmax'))\n",
        "model.compile(loss='sparse_categorical_crossentropy', optimizer='sgd', metrics=['accuracy'])\n",
        "baseline = model.fit(X,y, batch_size = 784,\n",
        "          epochs=5,\n",
        "          verbose = 1,\n",
        "          validation_split=0.1)"
      ],
      "execution_count": 51,
      "outputs": [
        {
          "output_type": "stream",
          "text": [
            "Epoch 1/5\n",
            "115/115 [==============================] - 0s 4ms/step - loss: 1125.0027 - accuracy: 0.5413 - val_loss: 758.8337 - val_accuracy: 0.4457\n",
            "Epoch 2/5\n",
            "115/115 [==============================] - 0s 3ms/step - loss: 888.8665 - accuracy: 0.5792 - val_loss: 1175.9384 - val_accuracy: 0.5635\n",
            "Epoch 3/5\n",
            "115/115 [==============================] - 0s 3ms/step - loss: 824.9772 - accuracy: 0.5874 - val_loss: 897.5974 - val_accuracy: 0.5312\n",
            "Epoch 4/5\n",
            "115/115 [==============================] - 0s 3ms/step - loss: 831.2998 - accuracy: 0.5928 - val_loss: 1012.0934 - val_accuracy: 0.5301\n",
            "Epoch 5/5\n",
            "115/115 [==============================] - 0s 3ms/step - loss: 855.9097 - accuracy: 0.5885 - val_loss: 916.2751 - val_accuracy: 0.5436\n"
          ],
          "name": "stdout"
        }
      ]
    },
    {
      "cell_type": "markdown",
      "metadata": {
        "id": "b0QJURWh-9uv"
      },
      "source": [
        "### Visualize the results\n",
        "\n",
        "Create charts for both loss and accuracy by epoch. Use line graphs for both charts. Analyze the results. \n",
        "\n",
        "At what point should we have stopped training the model and why? "
      ]
    },
    {
      "cell_type": "code",
      "metadata": {
        "id": "KONJtU5wqlXf",
        "colab": {
          "base_uri": "https://localhost:8080/"
        },
        "outputId": "a633e7ed-179f-4e30-9db5-1f27e8cc5c1f"
      },
      "source": [
        "baseline.history"
      ],
      "execution_count": 52,
      "outputs": [
        {
          "output_type": "execute_result",
          "data": {
            "text/plain": [
              "{'accuracy': [0.5412999987602234,\n",
              "  0.5791777968406677,\n",
              "  0.587422251701355,\n",
              "  0.5928333401679993,\n",
              "  0.5884888768196106],\n",
              " 'loss': [1125.002685546875,\n",
              "  888.8665161132812,\n",
              "  824.9772338867188,\n",
              "  831.2998046875,\n",
              "  855.90966796875],\n",
              " 'val_accuracy': [0.4456999897956848,\n",
              "  0.5634999871253967,\n",
              "  0.5311999917030334,\n",
              "  0.5300999879837036,\n",
              "  0.5436000227928162],\n",
              " 'val_loss': [758.833740234375,\n",
              "  1175.9383544921875,\n",
              "  897.597412109375,\n",
              "  1012.0933837890625,\n",
              "  916.2750854492188]}"
            ]
          },
          "metadata": {
            "tags": []
          },
          "execution_count": 52
        }
      ]
    },
    {
      "cell_type": "code",
      "metadata": {
        "id": "ijAlzfYKAFaY",
        "colab": {
          "base_uri": "https://localhost:8080/",
          "height": 279
        },
        "outputId": "7337b51f-e6d8-4a26-fc3f-6a5ca83ebee8"
      },
      "source": [
        "import seaborn as sns\n",
        "import pandas as pd\n",
        "\n",
        "df = pd.DataFrame.from_records(baseline.history)\n",
        "df['epoch'] = [i for i in range(df.shape[0])]\n",
        "\n",
        "ax = sns.lineplot(x='epoch', y='val_loss', data=df)\n",
        "ax = sns.lineplot(x='epoch', y='loss', data=df);"
      ],
      "execution_count": 53,
      "outputs": [
        {
          "output_type": "display_data",
          "data": {
            "image/png": "[encoded data removed]",
            "text/plain": [
              "<Figure size 432x288 with 1 Axes>"
            ]
          },
          "metadata": {
            "tags": [],
            "needs_background": "light"
          }
        }
      ]
    },
    {
      "cell_type": "markdown",
      "metadata": {
        "id": "MAhBrcE4yOZe"
      },
      "source": [
        "## Change Optimizers\n",
        "Try using the keras `adam` optimizer instead of `sgd` in your model. Visualize the difference in validation loss between the models with different optimizers. "
      ]
    },
    {
      "cell_type": "code",
      "metadata": {
        "id": "jIW_spOZ0cxy"
      },
      "source": [
        "from tensorflow.keras.optimizers import Adam\n",
        "\n",
        "adam = Adam()"
      ],
      "execution_count": 54,
      "outputs": []
    },
    {
      "cell_type": "code",
      "metadata": {
        "colab": {
          "base_uri": "https://localhost:8080/"
        },
        "id": "XvYChDV87LQx",
        "outputId": "1810073b-3f6c-4875-def0-cdf916ece3df"
      },
      "source": [
        "import tensorflow as tf\r\n",
        "from tensorflow.keras.models import Sequential\r\n",
        "from tensorflow.keras.layers import Dense\r\n",
        "\r\n",
        "model = Sequential()\r\n",
        "model.add(Dense(10,input_dim= 784, activation='softmax'))\r\n",
        "model.compile(loss='sparse_categorical_crossentropy', optimizer='adam', metrics=['accuracy'])\r\n",
        "adam_model = model.fit(X,y, batch_size = 784,\r\n",
        "          epochs=5,\r\n",
        "          verbose = 1,\r\n",
        "          validation_split=0.1)"
      ],
      "execution_count": 55,
      "outputs": [
        {
          "output_type": "stream",
          "text": [
            "Epoch 1/5\n",
            "115/115 [==============================] - 0s 4ms/step - loss: 48.7405 - accuracy: 0.5224 - val_loss: 26.7378 - val_accuracy: 0.6130\n",
            "Epoch 2/5\n",
            "115/115 [==============================] - 0s 3ms/step - loss: 20.6404 - accuracy: 0.6187 - val_loss: 17.0929 - val_accuracy: 0.5997\n",
            "Epoch 3/5\n",
            "115/115 [==============================] - 0s 3ms/step - loss: 13.5669 - accuracy: 0.6209 - val_loss: 11.7660 - val_accuracy: 0.6127\n",
            "Epoch 4/5\n",
            "115/115 [==============================] - 0s 3ms/step - loss: 9.8988 - accuracy: 0.6206 - val_loss: 9.3748 - val_accuracy: 0.6094\n",
            "Epoch 5/5\n",
            "115/115 [==============================] - 0s 3ms/step - loss: 7.7176 - accuracy: 0.6196 - val_loss: 7.9218 - val_accuracy: 0.5929\n"
          ],
          "name": "stdout"
        }
      ]
    },
    {
      "cell_type": "code",
      "metadata": {
        "colab": {
          "base_uri": "https://localhost:8080/",
          "height": 280
        },
        "id": "WzFiGA-H7VlB",
        "outputId": "25f05688-48fd-47f6-9fce-ac4e07385e83"
      },
      "source": [
        "import seaborn as sns\r\n",
        "import pandas as pd\r\n",
        "\r\n",
        "df = pd.DataFrame.from_records(adam_model.history)\r\n",
        "df['epoch'] = [i for i in range(df.shape[0])]\r\n",
        "\r\n",
        "ax = sns.lineplot(x='epoch', y='val_loss', data=df)\r\n",
        "ax = sns.lineplot(x='epoch', y='loss', data=df);"
      ],
      "execution_count": 56,
      "outputs": [
        {
          "output_type": "display_data",
          "data": {
            "image/png": "[encoded data removed]",
            "text/plain": [
              "<Figure size 432x288 with 1 Axes>"
            ]
          },
          "metadata": {
            "tags": [],
            "needs_background": "light"
          }
        }
      ]
    },
    {
      "cell_type": "markdown",
      "metadata": {
        "id": "EJrbh3qryi4w"
      },
      "source": [
        "### Additional Written Tasks:\n",
        "In this section, you will need to search for resources: \n",
        "1. Investigate the various [loss functions](https://www.tensorflow.org/api_docs/python/tf/keras/losses). Which is best suited for the task at hand (predicting 1 / 0) and why? \n",
        "2. What is the difference between a loss function and a metric? Why might we need both in Keras? \n",
        "3. Investigate the various [optimizers](https://www.tensorflow.org/api_docs/python/tf/keras/optimizers). Stochastic Gradient Descent (`sgd`) is not the learning algorithm dejour anyone. Why is that? What do newer optimizers such as `adam` have to offer? "
      ]
    },
    {
      "cell_type": "markdown",
      "metadata": {
        "id": "aIeuUd9j7-L4"
      },
      "source": [
        "Binary Cross-Entropy Loss is best for predicting 1s and 0s\r\n",
        "\r\n",
        "Both do the same thing by giving you a value that represents how good your model is but in some instances a loss function may be useful and in others a metric may be useful. It depends case by case. But, using both may solidify the results if they are saying the same thing.\r\n",
        "\r\n",
        "Adam has the best of many optimizer algorithms by being able to adapt its learning rate and use root square mean propagation\r\n",
        "\r\n"
      ]
    },
    {
      "cell_type": "code",
      "metadata": {
        "id": "Y8v35eCV7lXP"
      },
      "source": [
        ""
      ],
      "execution_count": null,
      "outputs": []
    },
    {
      "cell_type": "markdown",
      "metadata": {
        "id": "Gzs4fd-RynDd"
      },
      "source": [
        "## Stretch Goals: \n",
        "\n",
        "- Research convolutional neural networks and try including convolution layers in your network.\n",
        "- Pick two classes and make QuickDraw a binary classification problem, how does your model architecture change?\n",
        "- Implement Cross Validation model evaluation on your Quickdraw implementation \n",
        "\n",
        "Watch some more videos on Gradient Descent:\n",
        "- [Gradient Descent, Step-by-Step](https://www.youtube.com/watch?v=sDv4f4s2SB8)  by StatQuest w/ Josh Starmer. This will help you understand the gradient descent based optimization that happens underneath the hood of neural networks. It uses a non-neural network example, which I believe is a gentler introduction. You will hear me refer to this technique as \"vanilla\" gradient descent. \n",
        "- [Stochastic Gradient Descent, Clearly Explained!!!](https://www.youtube.com/watch?v=vMh0zPT0tLI) by StatQuest w/ Josh Starmer. This builds on the techniques in the previous video.  This technique is the one that is actually implemented inside modern 'nets. \n",
        "- [Siraj Raval the evolution of gradient descent](https://www.youtube.com/watch?v=nhqo0u1a6fw)"
      ]
    }
  ]
}