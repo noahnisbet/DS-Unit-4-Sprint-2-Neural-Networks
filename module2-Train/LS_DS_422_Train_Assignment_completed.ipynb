{
  "nbformat": 4,
  "nbformat_minor": 0,
  "metadata": {
    "colab": {
      "name": "LS_DS_432_Train_Assignment.ipynb",
      "provenance": [],
      "collapsed_sections": [],
      "toc_visible": true
    },
    "kernelspec": {
      "display_name": "Python 3",
      "language": "python",
      "name": "python3"
    },
    "language_info": {
      "codemirror_mode": {
        "name": "ipython",
        "version": 3
      },
      "file_extension": ".py",
      "mimetype": "text/x-python",
      "name": "python",
      "nbconvert_exporter": "python",
      "pygments_lexer": "ipython3",
      "version": "3.7.3"
    },
    "nteract": {
      "version": "0.22.4"
    }
  },
  "cells": [
    {
      "cell_type": "markdown",
      "metadata": {
        "id": "NGGrt9EYlCqY"
      },
      "source": [
        "<img align=\"left\" src=\"https://lever-client-logos.s3.amazonaws.com/864372b1-534c-480e-acd5-9711f850815c-1524247202159.png\" width=200>\n",
        "<br></br>\n",
        "<br></br>\n",
        "\n",
        "# Train Practice\n",
        "\n",
        "## *Data Science Unit 4 Sprint 2 Assignment 2*\n",
        "\n",
        "Continue to use TensorFlow Keras & a sample of the [Quickdraw dataset](https://github.com/googlecreativelab/quickdraw-dataset) to build a sketch classification model. The dataset has been sampled to only 10 classes and 10000 observations per class. Please build a baseline classification model then run a few experiments with different optimizers and learning rates. \n",
        "\n",
        "*Don't forgot to switch to GPU on Colab!*"
      ]
    },
    {
      "cell_type": "markdown",
      "metadata": {
        "id": "ptJ2b3wk62Ud"
      },
      "source": [
        "### Write a function to load your data\n",
        "\n",
        "Wrap yesterday's preprocessing steps into a function that returns four items:\n",
        "* X_train\n",
        "* y_train\n",
        "* X_test\n",
        "* y_test\n",
        "\n",
        "Your function should accept a `path` to the data as a argument."
      ]
    },
    {
      "cell_type": "code",
      "metadata": {
        "id": "uBpq0hCIDjLP"
      },
      "source": [
        "from sklearn.utils import shuffle\r\n",
        "from sklearn.model_selection import train_test_split\r\n",
        "import tensorflow as tf\r\n",
        "from tensorflow.keras.models import Sequential\r\n",
        "from tensorflow.keras.layers import Dense\r\n",
        "import numpy as np\r\n",
        "from tensorflow import keras\r\n",
        "from tensorflow.keras import layers\r\n"
      ],
      "execution_count": 35,
      "outputs": []
    },
    {
      "cell_type": "code",
      "metadata": {
        "id": "nJsIsrvp7O3e"
      },
      "source": [
        "def load_quickdraw10(path):\n",
        "\n",
        "  data = np.load('quickdraw10.npz')\n",
        "  X = data['arr_0']\n",
        "  y = data['arr_1']\n",
        "\n",
        "  class_names = ['apple',\n",
        " 'anvil',\n",
        " 'airplane',\n",
        " 'banana',\n",
        " 'The Eiffel Tower',\n",
        " 'The Mona Lisa',\n",
        " 'The Great Wall of China',\n",
        " 'alarm clock',\n",
        " 'ant',\n",
        " 'asparagus']\n",
        "\n",
        "  X, y = shuffle(X, y)\n",
        "\n",
        "  X_train, X_test, y_train, y_test = train_test_split(X, y, test_size=0.33, random_state=42)\n",
        "\n",
        "  return X_train, y_train, X_test, y_test"
      ],
      "execution_count": 2,
      "outputs": []
    },
    {
      "cell_type": "code",
      "metadata": {
        "id": "m3QCIzr2FV8v"
      },
      "source": [
        "X_train, y_train, X_test, y_test = load_quickdraw10(\"/content/quickdraw10.npz\")"
      ],
      "execution_count": 8,
      "outputs": []
    },
    {
      "cell_type": "markdown",
      "metadata": {
        "id": "l-6PxI6H5__2"
      },
      "source": [
        "### Write a Model Function\n",
        "Using your model from yesterday, write a function called `create_model` which returns a compiled TensorFlow Keras Sequential Model suitable for classifying the QuickDraw-10 dataset. Include parameters for the following: \n",
        "* Learning Rate\n",
        "* Optimizer"
      ]
    },
    {
      "cell_type": "code",
      "metadata": {
        "id": "nEREYT-3wI1f"
      },
      "source": [
        "##### Your Code Here #####\n",
        "\n",
        "def create_model(lr = .01):\n",
        "\n",
        "  opt = keras.optimizers.Adam(learning_rate=lr)\n",
        "\n",
        "  model = Sequential()\n",
        "  model.add(Dense(10,input_dim= 784, activation='softmax'))\n",
        "  model.compile(loss='sparse_categorical_crossentropy', optimizer= opt, metrics=['accuracy'])\n",
        "  \n",
        "  return model"
      ],
      "execution_count": 36,
      "outputs": []
    },
    {
      "cell_type": "markdown",
      "metadata": {
        "id": "f0pCkh8C7eGL"
      },
      "source": [
        "### Experiment with Batch Size\n",
        "* Run 5 experiments with various batch sizes of your choice. \n",
        "* Visualize the results\n",
        "* Write up an analysis of the experiments and select the \"best\" performing model among your experiments. Make sure to compare against your model's performance yesterday. "
      ]
    },
    {
      "cell_type": "code",
      "metadata": {
        "id": "USXjs7Hk71Hy",
        "colab": {
          "base_uri": "https://localhost:8080/"
        },
        "outputId": "21e73dfc-1f4c-4538-acf4-c00f97a8a773"
      },
      "source": [
        "batch_size_50 = create_model()\r\n",
        "\r\n",
        "batch_size_50.fit(X_train, y_train,\r\n",
        "                    batch_size=50,\r\n",
        "                    epochs=5,\r\n",
        "                    verbose=1,\r\n",
        "                    validation_split=0.1)"
      ],
      "execution_count": 19,
      "outputs": [
        {
          "output_type": "stream",
          "text": [
            "Epoch 1/5\n",
            "1206/1206 [==============================] - 2s 1ms/step - loss: 28.7387 - accuracy: 0.5913 - val_loss: 16.9032 - val_accuracy: 0.6207\n",
            "Epoch 2/5\n",
            "1206/1206 [==============================] - 2s 1ms/step - loss: 14.4154 - accuracy: 0.6113 - val_loss: 14.2428 - val_accuracy: 0.5799\n",
            "Epoch 3/5\n",
            "1206/1206 [==============================] - 2s 1ms/step - loss: 11.9761 - accuracy: 0.6089 - val_loss: 12.4462 - val_accuracy: 0.5851\n",
            "Epoch 4/5\n",
            "1206/1206 [==============================] - 2s 1ms/step - loss: 11.0490 - accuracy: 0.6150 - val_loss: 10.4870 - val_accuracy: 0.6185\n",
            "Epoch 5/5\n",
            "1206/1206 [==============================] - 2s 1ms/step - loss: 10.6580 - accuracy: 0.6137 - val_loss: 11.5461 - val_accuracy: 0.6193\n"
          ],
          "name": "stdout"
        },
        {
          "output_type": "execute_result",
          "data": {
            "text/plain": [
              "<tensorflow.python.keras.callbacks.History at 0x7f787c680be0>"
            ]
          },
          "metadata": {
            "tags": []
          },
          "execution_count": 19
        }
      ]
    },
    {
      "cell_type": "code",
      "metadata": {
        "id": "KEdKiYG-HCQ2",
        "outputId": "447d17f1-124b-45fa-cd30-4151a6c81792",
        "colab": {
          "base_uri": "https://localhost:8080/"
        }
      },
      "source": [
        "score = batch_size_50.evaluate(X_test, y_test,\r\n",
        "                       batch_size=50, verbose=1)"
      ],
      "execution_count": 20,
      "outputs": [
        {
          "output_type": "stream",
          "text": [
            "660/660 [==============================] - 1s 957us/step - loss: 10.7331 - accuracy: 0.6306\n",
            "Test accuracy for batch size 50: 0.6306060552597046\n"
          ],
          "name": "stdout"
        }
      ]
    },
    {
      "cell_type": "code",
      "metadata": {
        "id": "xBntpET1HgQW",
        "outputId": "f029da01-d376-4951-d11e-b287ce6cbf38",
        "colab": {
          "base_uri": "https://localhost:8080/"
        }
      },
      "source": [
        "print('Test accuracy for batch size 50:', score[1])"
      ],
      "execution_count": 21,
      "outputs": [
        {
          "output_type": "stream",
          "text": [
            "Test accuracy for batch size 50: 0.6306060552597046\n"
          ],
          "name": "stdout"
        }
      ]
    },
    {
      "cell_type": "code",
      "metadata": {
        "id": "EAwV-eygGOl_",
        "outputId": "24ee8f62-01d5-410c-b433-40f1ad043af3",
        "colab": {
          "base_uri": "https://localhost:8080/"
        }
      },
      "source": [
        "batch_size_250 = create_model()\r\n",
        "\r\n",
        "batch_size_250.fit(X_train, y_train,\r\n",
        "                    batch_size=250,\r\n",
        "                    epochs=5,\r\n",
        "                    verbose=1,\r\n",
        "                    validation_split=0.1)"
      ],
      "execution_count": 22,
      "outputs": [
        {
          "output_type": "stream",
          "text": [
            "Epoch 1/5\n",
            "242/242 [==============================] - 1s 3ms/step - loss: 40.8100 - accuracy: 0.5608 - val_loss: 23.0273 - val_accuracy: 0.6137\n",
            "Epoch 2/5\n",
            "242/242 [==============================] - 1s 3ms/step - loss: 16.9669 - accuracy: 0.6190 - val_loss: 14.0358 - val_accuracy: 0.6130\n",
            "Epoch 3/5\n",
            "242/242 [==============================] - 1s 3ms/step - loss: 11.5242 - accuracy: 0.6178 - val_loss: 11.5657 - val_accuracy: 0.6031\n",
            "Epoch 4/5\n",
            "242/242 [==============================] - 1s 3ms/step - loss: 8.9237 - accuracy: 0.6173 - val_loss: 8.4675 - val_accuracy: 0.6304\n",
            "Epoch 5/5\n",
            "242/242 [==============================] - 1s 3ms/step - loss: 7.2730 - accuracy: 0.6204 - val_loss: 7.8440 - val_accuracy: 0.5863\n"
          ],
          "name": "stdout"
        },
        {
          "output_type": "execute_result",
          "data": {
            "text/plain": [
              "<tensorflow.python.keras.callbacks.History at 0x7f787c4c3b70>"
            ]
          },
          "metadata": {
            "tags": []
          },
          "execution_count": 22
        }
      ]
    },
    {
      "cell_type": "code",
      "metadata": {
        "id": "fwunr3ExHrSF",
        "outputId": "726c97dd-bbcd-4614-d9e0-2187828f3e6e",
        "colab": {
          "base_uri": "https://localhost:8080/"
        }
      },
      "source": [
        "score = batch_size_250.evaluate(X_test, y_test,\r\n",
        "                       batch_size=250, verbose=1)"
      ],
      "execution_count": 23,
      "outputs": [
        {
          "output_type": "stream",
          "text": [
            "132/132 [==============================] - 0s 2ms/step - loss: 7.5177 - accuracy: 0.5936\n"
          ],
          "name": "stdout"
        }
      ]
    },
    {
      "cell_type": "code",
      "metadata": {
        "id": "ZCw1aOZtHvzu",
        "outputId": "e9fc9975-acff-479c-a029-7ebee74432e6",
        "colab": {
          "base_uri": "https://localhost:8080/"
        }
      },
      "source": [
        "print('Test accuracy for batch size 250:', score[1])"
      ],
      "execution_count": 25,
      "outputs": [
        {
          "output_type": "stream",
          "text": [
            "Test accuracy for batch size 250: 0.5936060547828674\n"
          ],
          "name": "stdout"
        }
      ]
    },
    {
      "cell_type": "code",
      "metadata": {
        "id": "zq_IOozmGOdQ",
        "outputId": "d1f524a6-5425-4b8e-da25-0ced878c0dc6",
        "colab": {
          "base_uri": "https://localhost:8080/"
        }
      },
      "source": [
        "batch_size_1000 = create_model()\r\n",
        "\r\n",
        "batch_size_1000.fit(X_train, y_train,\r\n",
        "                    batch_size=1000,\r\n",
        "                    epochs=5,\r\n",
        "                    verbose=1,\r\n",
        "                    validation_split=0.1)"
      ],
      "execution_count": 26,
      "outputs": [
        {
          "output_type": "stream",
          "text": [
            "Epoch 1/5\n",
            "61/61 [==============================] - 0s 8ms/step - loss: 71.7062 - accuracy: 0.4333 - val_loss: 39.6266 - val_accuracy: 0.5743\n",
            "Epoch 2/5\n",
            "61/61 [==============================] - 0s 6ms/step - loss: 32.3649 - accuracy: 0.6034 - val_loss: 28.0754 - val_accuracy: 0.6128\n",
            "Epoch 3/5\n",
            "61/61 [==============================] - 0s 6ms/step - loss: 23.5538 - accuracy: 0.6196 - val_loss: 21.7542 - val_accuracy: 0.6167\n",
            "Epoch 4/5\n",
            "61/61 [==============================] - 0s 6ms/step - loss: 18.3138 - accuracy: 0.6244 - val_loss: 17.8252 - val_accuracy: 0.6112\n",
            "Epoch 5/5\n",
            "61/61 [==============================] - 0s 6ms/step - loss: 14.7125 - accuracy: 0.6250 - val_loss: 14.6822 - val_accuracy: 0.6085\n"
          ],
          "name": "stdout"
        },
        {
          "output_type": "execute_result",
          "data": {
            "text/plain": [
              "<tensorflow.python.keras.callbacks.History at 0x7f787c38aef0>"
            ]
          },
          "metadata": {
            "tags": []
          },
          "execution_count": 26
        }
      ]
    },
    {
      "cell_type": "code",
      "metadata": {
        "id": "15Zmjl8ZH6Z-",
        "outputId": "f4662aee-25e1-46ee-ecaa-95d0644ccab3",
        "colab": {
          "base_uri": "https://localhost:8080/"
        }
      },
      "source": [
        "score = batch_size_1000.evaluate(X_test, y_test,\r\n",
        "                       batch_size=1000, verbose=1)"
      ],
      "execution_count": 27,
      "outputs": [
        {
          "output_type": "stream",
          "text": [
            "33/33 [==============================] - 0s 4ms/step - loss: 13.7688 - accuracy: 0.6135\n"
          ],
          "name": "stdout"
        }
      ]
    },
    {
      "cell_type": "code",
      "metadata": {
        "id": "EZeggF0nH9b-",
        "outputId": "725e2d97-a233-47e3-8410-b4c588eff2c8",
        "colab": {
          "base_uri": "https://localhost:8080/"
        }
      },
      "source": [
        "print('Test accuracy for batch size 250:', score[1])"
      ],
      "execution_count": 28,
      "outputs": [
        {
          "output_type": "stream",
          "text": [
            "Test accuracy for batch size 250: 0.6135454773902893\n"
          ],
          "name": "stdout"
        }
      ]
    },
    {
      "cell_type": "code",
      "metadata": {
        "id": "SPXbocHWGOXB",
        "outputId": "63c66adc-e849-4df5-e4cb-a34247f1fee7",
        "colab": {
          "base_uri": "https://localhost:8080/"
        }
      },
      "source": [
        "batch_size_2000 = create_model()\r\n",
        "\r\n",
        "batch_size_2000.fit(X_train, y_train,\r\n",
        "                    batch_size=2000,\r\n",
        "                    epochs=5,\r\n",
        "                    verbose=1,\r\n",
        "                    validation_split=0.1)"
      ],
      "execution_count": 29,
      "outputs": [
        {
          "output_type": "stream",
          "text": [
            "Epoch 1/5\n",
            "31/31 [==============================] - 1s 17ms/step - loss: 82.6811 - accuracy: 0.3775 - val_loss: 52.2278 - val_accuracy: 0.5403\n",
            "Epoch 2/5\n",
            "31/31 [==============================] - 0s 12ms/step - loss: 41.5227 - accuracy: 0.5740 - val_loss: 37.1079 - val_accuracy: 0.5812\n",
            "Epoch 3/5\n",
            "31/31 [==============================] - 0s 11ms/step - loss: 30.7473 - accuracy: 0.6045 - val_loss: 29.6091 - val_accuracy: 0.5924\n",
            "Epoch 4/5\n",
            "31/31 [==============================] - 0s 11ms/step - loss: 24.6121 - accuracy: 0.6167 - val_loss: 24.6857 - val_accuracy: 0.5966\n",
            "Epoch 5/5\n",
            "31/31 [==============================] - 0s 11ms/step - loss: 20.3740 - accuracy: 0.6231 - val_loss: 20.5035 - val_accuracy: 0.6018\n"
          ],
          "name": "stdout"
        },
        {
          "output_type": "execute_result",
          "data": {
            "text/plain": [
              "<tensorflow.python.keras.callbacks.History at 0x7f7875a45080>"
            ]
          },
          "metadata": {
            "tags": []
          },
          "execution_count": 29
        }
      ]
    },
    {
      "cell_type": "code",
      "metadata": {
        "id": "bcgVE-9XIJUm",
        "outputId": "66fff20c-f8d7-408a-a3d3-462e4e4a30be",
        "colab": {
          "base_uri": "https://localhost:8080/"
        }
      },
      "source": [
        "score = batch_size_2000.evaluate(X_test, y_test,\r\n",
        "                       batch_size=2000, verbose=1)"
      ],
      "execution_count": 30,
      "outputs": [
        {
          "output_type": "stream",
          "text": [
            "17/17 [==============================] - 0s 5ms/step - loss: 19.1750 - accuracy: 0.6164\n"
          ],
          "name": "stdout"
        }
      ]
    },
    {
      "cell_type": "code",
      "metadata": {
        "id": "lZawYjnBIMc_",
        "outputId": "bc28e9f5-0e5a-48a4-85a1-7c6ff99cb36d",
        "colab": {
          "base_uri": "https://localhost:8080/"
        }
      },
      "source": [
        "print('Test accuracy for batch size 250:', score[1])"
      ],
      "execution_count": 31,
      "outputs": [
        {
          "output_type": "stream",
          "text": [
            "Test accuracy for batch size 250: 0.6163939237594604\n"
          ],
          "name": "stdout"
        }
      ]
    },
    {
      "cell_type": "code",
      "metadata": {
        "id": "nDdkwRj6GOQI",
        "outputId": "c9757385-2266-4afe-9613-8a29d832c6a8",
        "colab": {
          "base_uri": "https://localhost:8080/"
        }
      },
      "source": [
        "batch_size_5000 = create_model()\r\n",
        "\r\n",
        "batch_size_5000.fit(X_train, y_train,\r\n",
        "                    batch_size=5000,\r\n",
        "                    epochs=5,\r\n",
        "                    verbose=1,\r\n",
        "                    validation_split=0.1)"
      ],
      "execution_count": 32,
      "outputs": [
        {
          "output_type": "stream",
          "text": [
            "Epoch 1/5\n",
            "13/13 [==============================] - 0s 33ms/step - loss: 120.2840 - accuracy: 0.2333 - val_loss: 81.6182 - val_accuracy: 0.3773\n",
            "Epoch 2/5\n",
            "13/13 [==============================] - 0s 26ms/step - loss: 68.2497 - accuracy: 0.4330 - val_loss: 57.1555 - val_accuracy: 0.4906\n",
            "Epoch 3/5\n",
            "13/13 [==============================] - 0s 26ms/step - loss: 51.7817 - accuracy: 0.5200 - val_loss: 46.5455 - val_accuracy: 0.5525\n",
            "Epoch 4/5\n",
            "13/13 [==============================] - 0s 26ms/step - loss: 43.2422 - accuracy: 0.5620 - val_loss: 40.1895 - val_accuracy: 0.5813\n",
            "Epoch 5/5\n",
            "13/13 [==============================] - 0s 26ms/step - loss: 37.6070 - accuracy: 0.5840 - val_loss: 35.6903 - val_accuracy: 0.5984\n"
          ],
          "name": "stdout"
        },
        {
          "output_type": "execute_result",
          "data": {
            "text/plain": [
              "<tensorflow.python.keras.callbacks.History at 0x7f7875940780>"
            ]
          },
          "metadata": {
            "tags": []
          },
          "execution_count": 32
        }
      ]
    },
    {
      "cell_type": "code",
      "metadata": {
        "id": "pZD99o06ITOm",
        "outputId": "91a62719-30c8-4a89-b215-81a88dc55418",
        "colab": {
          "base_uri": "https://localhost:8080/"
        }
      },
      "source": [
        "score = batch_size_5000.evaluate(X_test, y_test,\r\n",
        "                       batch_size=5000, verbose=1)"
      ],
      "execution_count": 33,
      "outputs": [
        {
          "output_type": "stream",
          "text": [
            "7/7 [==============================] - 0s 11ms/step - loss: 34.5070 - accuracy: 0.5946\n"
          ],
          "name": "stdout"
        }
      ]
    },
    {
      "cell_type": "code",
      "metadata": {
        "id": "9e7tvdVaIWL-",
        "outputId": "9cac5f36-f1f4-4570-ac66-3d9ba6d0909a",
        "colab": {
          "base_uri": "https://localhost:8080/"
        }
      },
      "source": [
        "print('Test accuracy for batch size 250:', score[1])"
      ],
      "execution_count": 34,
      "outputs": [
        {
          "output_type": "stream",
          "text": [
            "Test accuracy for batch size 250: 0.5946060419082642\n"
          ],
          "name": "stdout"
        }
      ]
    },
    {
      "cell_type": "markdown",
      "metadata": {
        "id": "8b-r70o8p2Dm"
      },
      "source": [
        "### Experiment with Learning Rate\n",
        "* Run 5 experiments with various learning rate magnitudes: 1, .1, .01, .001, .0001.\n",
        "* Use the \"best\" batch size from the previous experiment\n",
        "* Visualize the results\n",
        "* Write up an analysis of the experiments and select the \"best\" performing model among your experiments. Make sure to compare against the previous experiments and your model's performance yesterday. "
      ]
    },
    {
      "cell_type": "code",
      "metadata": {
        "id": "_SA144xx8Luf",
        "colab": {
          "base_uri": "https://localhost:8080/"
        },
        "outputId": "28d4695f-4966-42d8-9ea6-f3cf81f57248"
      },
      "source": [
        "learning_1 = create_model(lr=1)\r\n",
        "\r\n",
        "learning_1.fit(X_train, y_train,\r\n",
        "                    batch_size=50,\r\n",
        "                    epochs=5,\r\n",
        "                    verbose=1,\r\n",
        "                    validation_split=0.1)"
      ],
      "execution_count": 37,
      "outputs": [
        {
          "output_type": "stream",
          "text": [
            "Epoch 1/5\n",
            "1206/1206 [==============================] - 2s 2ms/step - loss: 9582.5869 - accuracy: 0.5956 - val_loss: 9635.8916 - val_accuracy: 0.6033\n",
            "Epoch 2/5\n",
            "1206/1206 [==============================] - 2s 2ms/step - loss: 10116.4688 - accuracy: 0.6062 - val_loss: 10538.7031 - val_accuracy: 0.6206\n",
            "Epoch 3/5\n",
            "1206/1206 [==============================] - 2s 1ms/step - loss: 10040.3887 - accuracy: 0.6067 - val_loss: 10268.9102 - val_accuracy: 0.6118\n",
            "Epoch 4/5\n",
            "1206/1206 [==============================] - 2s 1ms/step - loss: 10142.9746 - accuracy: 0.6117 - val_loss: 9889.5771 - val_accuracy: 0.6033\n",
            "Epoch 5/5\n",
            "1206/1206 [==============================] - 2s 1ms/step - loss: 10258.9111 - accuracy: 0.6107 - val_loss: 10887.5166 - val_accuracy: 0.6061\n"
          ],
          "name": "stdout"
        },
        {
          "output_type": "execute_result",
          "data": {
            "text/plain": [
              "<tensorflow.python.keras.callbacks.History at 0x7f7875871358>"
            ]
          },
          "metadata": {
            "tags": []
          },
          "execution_count": 37
        }
      ]
    },
    {
      "cell_type": "code",
      "metadata": {
        "id": "0gDN2PaIJuEu",
        "outputId": "61c74939-7a76-4d0d-a7e0-f7be1dd6dc9b",
        "colab": {
          "base_uri": "https://localhost:8080/"
        }
      },
      "source": [
        "learning_01 = create_model(lr=.1)\r\n",
        "\r\n",
        "learning_01.fit(X_train, y_train,\r\n",
        "                    batch_size=50,\r\n",
        "                    epochs=5,\r\n",
        "                    verbose=1,\r\n",
        "                    validation_split=0.1)"
      ],
      "execution_count": 38,
      "outputs": [
        {
          "output_type": "stream",
          "text": [
            "Epoch 1/5\n",
            "1206/1206 [==============================] - 2s 1ms/step - loss: 932.1209 - accuracy: 0.5951 - val_loss: 1129.6837 - val_accuracy: 0.5793\n",
            "Epoch 2/5\n",
            "1206/1206 [==============================] - 2s 1ms/step - loss: 1016.0522 - accuracy: 0.6042 - val_loss: 963.5931 - val_accuracy: 0.6249\n",
            "Epoch 3/5\n",
            "1206/1206 [==============================] - 2s 1ms/step - loss: 1031.0676 - accuracy: 0.6080 - val_loss: 989.6651 - val_accuracy: 0.6248\n",
            "Epoch 4/5\n",
            "1206/1206 [==============================] - 2s 1ms/step - loss: 1035.8975 - accuracy: 0.6099 - val_loss: 1002.7524 - val_accuracy: 0.6061\n",
            "Epoch 5/5\n",
            "1206/1206 [==============================] - 2s 1ms/step - loss: 1014.3820 - accuracy: 0.6110 - val_loss: 1185.7092 - val_accuracy: 0.5755\n"
          ],
          "name": "stdout"
        },
        {
          "output_type": "execute_result",
          "data": {
            "text/plain": [
              "<tensorflow.python.keras.callbacks.History at 0x7f787573d6a0>"
            ]
          },
          "metadata": {
            "tags": []
          },
          "execution_count": 38
        }
      ]
    },
    {
      "cell_type": "code",
      "metadata": {
        "id": "PdA8RzjaJvPm",
        "outputId": "95a18555-2990-4c12-ebfb-fcb04056dcce",
        "colab": {
          "base_uri": "https://localhost:8080/"
        }
      },
      "source": [
        "learning_001 = create_model(lr=.01)\r\n",
        "\r\n",
        "learning_001.fit(X_train, y_train,\r\n",
        "                    batch_size=50,\r\n",
        "                    epochs=5,\r\n",
        "                    verbose=1,\r\n",
        "                    validation_split=0.1)"
      ],
      "execution_count": 39,
      "outputs": [
        {
          "output_type": "stream",
          "text": [
            "Epoch 1/5\n",
            "1206/1206 [==============================] - 2s 1ms/step - loss: 99.9833 - accuracy: 0.5941 - val_loss: 94.4328 - val_accuracy: 0.6061\n",
            "Epoch 2/5\n",
            "1206/1206 [==============================] - 2s 1ms/step - loss: 101.1714 - accuracy: 0.6078 - val_loss: 103.9691 - val_accuracy: 0.6107\n",
            "Epoch 3/5\n",
            "1206/1206 [==============================] - 2s 1ms/step - loss: 101.2393 - accuracy: 0.6056 - val_loss: 108.1935 - val_accuracy: 0.6084\n",
            "Epoch 4/5\n",
            "1206/1206 [==============================] - 2s 1ms/step - loss: 98.8111 - accuracy: 0.6116 - val_loss: 108.3940 - val_accuracy: 0.6043\n",
            "Epoch 5/5\n",
            "1206/1206 [==============================] - 2s 1ms/step - loss: 104.6052 - accuracy: 0.6112 - val_loss: 99.3534 - val_accuracy: 0.6258\n"
          ],
          "name": "stdout"
        },
        {
          "output_type": "execute_result",
          "data": {
            "text/plain": [
              "<tensorflow.python.keras.callbacks.History at 0x7f78755d1f60>"
            ]
          },
          "metadata": {
            "tags": []
          },
          "execution_count": 39
        }
      ]
    },
    {
      "cell_type": "code",
      "metadata": {
        "id": "T68R09l-Jv3Y",
        "outputId": "db6b8647-7f54-46e2-ac55-bc9fc3ad8f9a",
        "colab": {
          "base_uri": "https://localhost:8080/"
        }
      },
      "source": [
        "learning_0001 = create_model(lr=.001)\r\n",
        "\r\n",
        "learning_0001.fit(X_train, y_train,\r\n",
        "                    batch_size=50,\r\n",
        "                    epochs=5,\r\n",
        "                    verbose=1,\r\n",
        "                    validation_split=0.1)"
      ],
      "execution_count": 40,
      "outputs": [
        {
          "output_type": "stream",
          "text": [
            "Epoch 1/5\n",
            "1206/1206 [==============================] - 2s 2ms/step - loss: 28.2112 - accuracy: 0.5900 - val_loss: 16.6362 - val_accuracy: 0.6157\n",
            "Epoch 2/5\n",
            "1206/1206 [==============================] - 2s 2ms/step - loss: 14.3637 - accuracy: 0.6092 - val_loss: 12.1830 - val_accuracy: 0.6360\n",
            "Epoch 3/5\n",
            "1206/1206 [==============================] - 2s 2ms/step - loss: 11.9518 - accuracy: 0.6114 - val_loss: 11.8412 - val_accuracy: 0.6021\n",
            "Epoch 4/5\n",
            "1206/1206 [==============================] - 2s 1ms/step - loss: 10.9141 - accuracy: 0.6124 - val_loss: 11.8000 - val_accuracy: 0.6033\n",
            "Epoch 5/5\n",
            "1206/1206 [==============================] - 2s 1ms/step - loss: 10.6845 - accuracy: 0.6124 - val_loss: 11.5400 - val_accuracy: 0.5987\n"
          ],
          "name": "stdout"
        },
        {
          "output_type": "execute_result",
          "data": {
            "text/plain": [
              "<tensorflow.python.keras.callbacks.History at 0x7f787550d8d0>"
            ]
          },
          "metadata": {
            "tags": []
          },
          "execution_count": 40
        }
      ]
    },
    {
      "cell_type": "code",
      "metadata": {
        "id": "5NJLeWXQJwKN",
        "outputId": "814fe7b2-d196-46d9-e5a6-4513a43de91a",
        "colab": {
          "base_uri": "https://localhost:8080/"
        }
      },
      "source": [
        "learning_00001 = create_model(lr=.0001)\r\n",
        "\r\n",
        "learning_00001.fit(X_train, y_train,\r\n",
        "                    batch_size=50,\r\n",
        "                    epochs=5,\r\n",
        "                    verbose=1,\r\n",
        "                    validation_split=0.1)"
      ],
      "execution_count": 41,
      "outputs": [
        {
          "output_type": "stream",
          "text": [
            "Epoch 1/5\n",
            "1206/1206 [==============================] - 2s 1ms/step - loss: 61.1866 - accuracy: 0.4392 - val_loss: 39.1063 - val_accuracy: 0.5587\n",
            "Epoch 2/5\n",
            "1206/1206 [==============================] - 2s 1ms/step - loss: 31.3289 - accuracy: 0.5900 - val_loss: 28.1833 - val_accuracy: 0.5964\n",
            "Epoch 3/5\n",
            "1206/1206 [==============================] - 2s 1ms/step - loss: 23.5106 - accuracy: 0.6119 - val_loss: 22.2553 - val_accuracy: 0.6021\n",
            "Epoch 4/5\n",
            "1206/1206 [==============================] - 2s 2ms/step - loss: 18.7597 - accuracy: 0.6192 - val_loss: 18.4141 - val_accuracy: 0.6093\n",
            "Epoch 5/5\n",
            "1206/1206 [==============================] - 2s 1ms/step - loss: 15.4945 - accuracy: 0.6201 - val_loss: 15.6550 - val_accuracy: 0.6100\n"
          ],
          "name": "stdout"
        },
        {
          "output_type": "execute_result",
          "data": {
            "text/plain": [
              "<tensorflow.python.keras.callbacks.History at 0x7f787e360630>"
            ]
          },
          "metadata": {
            "tags": []
          },
          "execution_count": 41
        }
      ]
    },
    {
      "cell_type": "markdown",
      "metadata": {
        "id": "gxMtSRhV9Q7I"
      },
      "source": [
        "### Experiment with different Optimizers\n",
        "* Run 5 experiments with various optimizers available in TensorFlow. See list [here](https://www.tensorflow.org/api_docs/python/tf/keras/optimizers)\n",
        "* Visualize the results\n",
        "* Write up an analysis of the experiments and select the \"best\" performing model among your experiments. Make sure to compare against the previous experiments and your model's performance yesterday.\n",
        "* Repeat the experiment combining Learning Rate and different optimizers. Does the best performing model change? "
      ]
    },
    {
      "cell_type": "code",
      "metadata": {
        "id": "ujLuzdNA91ip",
        "colab": {
          "base_uri": "https://localhost:8080/"
        },
        "outputId": "93149543-4ccd-4640-d144-457bba06608e"
      },
      "source": [
        "opt = keras.optimizers.Adam(learning_rate=.01)\r\n",
        "\r\n",
        "model = Sequential()\r\n",
        "model.add(Dense(10,input_dim= 784, activation='softmax'))\r\n",
        "model.compile(loss='sparse_categorical_crossentropy', optimizer= opt, metrics=['accuracy'])\r\n",
        "model.fit(X_train, y_train,\r\n",
        "                    batch_size=50,\r\n",
        "                    epochs=5,\r\n",
        "                    verbose=1,\r\n",
        "                    validation_split=0.1)"
      ],
      "execution_count": 43,
      "outputs": [
        {
          "output_type": "stream",
          "text": [
            "Epoch 1/5\n",
            "1206/1206 [==============================] - 2s 1ms/step - loss: 99.6133 - accuracy: 0.5956 - val_loss: 94.2247 - val_accuracy: 0.6390\n",
            "Epoch 2/5\n",
            "1206/1206 [==============================] - 2s 1ms/step - loss: 102.5419 - accuracy: 0.6071 - val_loss: 98.3395 - val_accuracy: 0.6134\n",
            "Epoch 3/5\n",
            "1206/1206 [==============================] - 2s 1ms/step - loss: 100.5933 - accuracy: 0.6085 - val_loss: 108.8448 - val_accuracy: 0.5730\n",
            "Epoch 4/5\n",
            "1206/1206 [==============================] - 2s 1ms/step - loss: 102.9631 - accuracy: 0.6090 - val_loss: 111.5180 - val_accuracy: 0.6103\n",
            "Epoch 5/5\n",
            "1206/1206 [==============================] - 2s 1ms/step - loss: 104.2897 - accuracy: 0.6089 - val_loss: 105.7311 - val_accuracy: 0.6110\n"
          ],
          "name": "stdout"
        },
        {
          "output_type": "execute_result",
          "data": {
            "text/plain": [
              "<tensorflow.python.keras.callbacks.History at 0x7f78822fcd30>"
            ]
          },
          "metadata": {
            "tags": []
          },
          "execution_count": 43
        }
      ]
    },
    {
      "cell_type": "code",
      "metadata": {
        "id": "B6QYIEDvKklN",
        "outputId": "43f1273e-bdf6-4d7f-8c9c-d5f0b0375b62",
        "colab": {
          "base_uri": "https://localhost:8080/"
        }
      },
      "source": [
        "opt = keras.optimizers.SGD(learning_rate=.01)\r\n",
        "\r\n",
        "model = Sequential()\r\n",
        "model.add(Dense(10,input_dim= 784, activation='softmax'))\r\n",
        "model.compile(loss='sparse_categorical_crossentropy', optimizer= opt, metrics=['accuracy'])\r\n",
        "model.fit(X_train, y_train,\r\n",
        "                    batch_size=50,\r\n",
        "                    epochs=5,\r\n",
        "                    verbose=1,\r\n",
        "                    validation_split=0.1)"
      ],
      "execution_count": 44,
      "outputs": [
        {
          "output_type": "stream",
          "text": [
            "Epoch 1/5\n",
            "1206/1206 [==============================] - 2s 1ms/step - loss: 1211.2163 - accuracy: 0.5811 - val_loss: 1028.3336 - val_accuracy: 0.6100\n",
            "Epoch 2/5\n",
            "1206/1206 [==============================] - 2s 1ms/step - loss: 1161.8138 - accuracy: 0.5973 - val_loss: 1140.9839 - val_accuracy: 0.6025\n",
            "Epoch 3/5\n",
            "1206/1206 [==============================] - 2s 1ms/step - loss: 1145.7933 - accuracy: 0.6006 - val_loss: 1482.6628 - val_accuracy: 0.5976\n",
            "Epoch 4/5\n",
            "1206/1206 [==============================] - 2s 1ms/step - loss: 1133.3871 - accuracy: 0.6036 - val_loss: 929.7900 - val_accuracy: 0.6176\n",
            "Epoch 5/5\n",
            "1206/1206 [==============================] - 2s 1ms/step - loss: 1126.2618 - accuracy: 0.6021 - val_loss: 1070.7188 - val_accuracy: 0.6396\n"
          ],
          "name": "stdout"
        },
        {
          "output_type": "execute_result",
          "data": {
            "text/plain": [
              "<tensorflow.python.keras.callbacks.History at 0x7f787c530a58>"
            ]
          },
          "metadata": {
            "tags": []
          },
          "execution_count": 44
        }
      ]
    },
    {
      "cell_type": "code",
      "metadata": {
        "id": "uOv5iOucKlB2",
        "outputId": "89e3dc0f-023d-469c-c482-9c27128627c4",
        "colab": {
          "base_uri": "https://localhost:8080/"
        }
      },
      "source": [
        "opt = keras.optimizers.Adadelta(learning_rate=.01)\r\n",
        "\r\n",
        "model = Sequential()\r\n",
        "model.add(Dense(10,input_dim= 784, activation='softmax'))\r\n",
        "model.compile(loss='sparse_categorical_crossentropy', optimizer= opt, metrics=['accuracy'])\r\n",
        "model.fit(X_train, y_train,\r\n",
        "                    batch_size=50,\r\n",
        "                    epochs=10,\r\n",
        "                    verbose=1,\r\n",
        "                    validation_split=0.1)"
      ],
      "execution_count": 47,
      "outputs": [
        {
          "output_type": "stream",
          "text": [
            "Epoch 1/10\n",
            "1206/1206 [==============================] - 2s 1ms/step - loss: 138.7082 - accuracy: 0.1552 - val_loss: 99.0687 - val_accuracy: 0.2312\n",
            "Epoch 2/10\n",
            "1206/1206 [==============================] - 2s 1ms/step - loss: 84.4034 - accuracy: 0.2936 - val_loss: 71.9445 - val_accuracy: 0.3561\n",
            "Epoch 3/10\n",
            "1206/1206 [==============================] - 2s 1ms/step - loss: 65.3112 - accuracy: 0.3893 - val_loss: 59.5848 - val_accuracy: 0.4266\n",
            "Epoch 4/10\n",
            "1206/1206 [==============================] - 2s 1ms/step - loss: 55.3879 - accuracy: 0.4476 - val_loss: 52.4802 - val_accuracy: 0.4719\n",
            "Epoch 5/10\n",
            "1206/1206 [==============================] - 2s 1ms/step - loss: 49.2244 - accuracy: 0.4856 - val_loss: 47.7733 - val_accuracy: 0.5030\n",
            "Epoch 6/10\n",
            "1206/1206 [==============================] - 2s 1ms/step - loss: 44.9729 - accuracy: 0.5129 - val_loss: 44.2264 - val_accuracy: 0.5239\n",
            "Epoch 7/10\n",
            "1206/1206 [==============================] - 2s 1ms/step - loss: 41.7825 - accuracy: 0.5323 - val_loss: 41.5283 - val_accuracy: 0.5439\n",
            "Epoch 8/10\n",
            "1206/1206 [==============================] - 2s 1ms/step - loss: 39.2558 - accuracy: 0.5473 - val_loss: 39.3197 - val_accuracy: 0.5545\n",
            "Epoch 9/10\n",
            "1206/1206 [==============================] - 2s 1ms/step - loss: 37.1770 - accuracy: 0.5582 - val_loss: 37.4729 - val_accuracy: 0.5606\n",
            "Epoch 10/10\n",
            "1206/1206 [==============================] - 2s 1ms/step - loss: 35.3786 - accuracy: 0.5677 - val_loss: 35.7607 - val_accuracy: 0.5688\n"
          ],
          "name": "stdout"
        },
        {
          "output_type": "execute_result",
          "data": {
            "text/plain": [
              "<tensorflow.python.keras.callbacks.History at 0x7f787d308588>"
            ]
          },
          "metadata": {
            "tags": []
          },
          "execution_count": 47
        }
      ]
    },
    {
      "cell_type": "code",
      "metadata": {
        "id": "BcuVFeNuKlbF",
        "outputId": "797a6604-71fc-4744-dcd2-619856fc95fe",
        "colab": {
          "base_uri": "https://localhost:8080/"
        }
      },
      "source": [
        "opt = keras.optimizers.Adagrad(learning_rate=.01)\r\n",
        "\r\n",
        "model = Sequential()\r\n",
        "model.add(Dense(10,input_dim= 784, activation='softmax'))\r\n",
        "model.compile(loss='sparse_categorical_crossentropy', optimizer= opt, metrics=['accuracy'])\r\n",
        "model.fit(X_train, y_train,\r\n",
        "                    batch_size=50,\r\n",
        "                    epochs=5,\r\n",
        "                    verbose=1,\r\n",
        "                    validation_split=0.1)"
      ],
      "execution_count": 46,
      "outputs": [
        {
          "output_type": "stream",
          "text": [
            "Epoch 1/5\n",
            "1206/1206 [==============================] - 2s 1ms/step - loss: 28.8711 - accuracy: 0.6017 - val_loss: 18.7551 - val_accuracy: 0.6181\n",
            "Epoch 2/5\n",
            "1206/1206 [==============================] - 2s 1ms/step - loss: 14.8843 - accuracy: 0.6207 - val_loss: 13.4182 - val_accuracy: 0.6140\n",
            "Epoch 3/5\n",
            "1206/1206 [==============================] - 2s 1ms/step - loss: 11.1651 - accuracy: 0.6204 - val_loss: 11.0142 - val_accuracy: 0.6033\n",
            "Epoch 4/5\n",
            "1206/1206 [==============================] - 2s 1ms/step - loss: 9.1096 - accuracy: 0.6229 - val_loss: 9.0147 - val_accuracy: 0.6134\n",
            "Epoch 5/5\n",
            "1206/1206 [==============================] - 2s 1ms/step - loss: 7.7600 - accuracy: 0.6232 - val_loss: 8.3954 - val_accuracy: 0.5913\n"
          ],
          "name": "stdout"
        },
        {
          "output_type": "execute_result",
          "data": {
            "text/plain": [
              "<tensorflow.python.keras.callbacks.History at 0x7f787db1aeb8>"
            ]
          },
          "metadata": {
            "tags": []
          },
          "execution_count": 46
        }
      ]
    },
    {
      "cell_type": "code",
      "metadata": {
        "id": "tmTbuM2AKlud",
        "outputId": "aac8c8a3-8a17-454b-a48f-e4e96d1bdbc4",
        "colab": {
          "base_uri": "https://localhost:8080/"
        }
      },
      "source": [
        "opt = keras.optimizers.Nadam(learning_rate=.01)\r\n",
        "\r\n",
        "model = Sequential()\r\n",
        "model.add(Dense(10,input_dim= 784, activation='softmax'))\r\n",
        "model.compile(loss='sparse_categorical_crossentropy', optimizer= opt, metrics=['accuracy'])\r\n",
        "model.fit(X_train, y_train,\r\n",
        "                    batch_size=50,\r\n",
        "                    epochs=5,\r\n",
        "                    verbose=1,\r\n",
        "                    validation_split=0.1)"
      ],
      "execution_count": 48,
      "outputs": [
        {
          "output_type": "stream",
          "text": [
            "Epoch 1/5\n",
            "1206/1206 [==============================] - 2s 1ms/step - loss: 100.5369 - accuracy: 0.5932 - val_loss: 109.9426 - val_accuracy: 0.5779\n",
            "Epoch 2/5\n",
            "1206/1206 [==============================] - 2s 1ms/step - loss: 96.0401 - accuracy: 0.6084 - val_loss: 93.1203 - val_accuracy: 0.5845\n",
            "Epoch 3/5\n",
            "1206/1206 [==============================] - 2s 1ms/step - loss: 93.2877 - accuracy: 0.6098 - val_loss: 88.1637 - val_accuracy: 0.6321\n",
            "Epoch 4/5\n",
            "1206/1206 [==============================] - 2s 1ms/step - loss: 88.4459 - accuracy: 0.6109 - val_loss: 96.7507 - val_accuracy: 0.6307\n",
            "Epoch 5/5\n",
            "1206/1206 [==============================] - 2s 1ms/step - loss: 86.5934 - accuracy: 0.6124 - val_loss: 107.1080 - val_accuracy: 0.5799\n"
          ],
          "name": "stdout"
        },
        {
          "output_type": "execute_result",
          "data": {
            "text/plain": [
              "<tensorflow.python.keras.callbacks.History at 0x7f787d26b518>"
            ]
          },
          "metadata": {
            "tags": []
          },
          "execution_count": 48
        }
      ]
    },
    {
      "cell_type": "markdown",
      "metadata": {
        "id": "ydAqeY9S8uHA"
      },
      "source": [
        "### Additional Written Tasks\n",
        "\n",
        "1. Describe the process of backpropagation in your own words: \n",
        "```\n",
        "Changing weights by looking at the loss and trying to minimize it.\n",
        "```\n",
        "\n"
      ]
    },
    {
      "cell_type": "markdown",
      "metadata": {
        "id": "FwlRJSfBlCvy"
      },
      "source": [
        "## Stretch Goals: \n",
        "\n",
        "- Implement GridSearch on anyone of the experiments\n",
        "- On the learning rate experiments, implement [EarlyStopping](https://www.tensorflow.org/api_docs/python/tf/keras/callbacks/EarlyStopping)\n",
        "- Review material on the math behind gradient descent: \n",
        "\n",
        "  - Gradient Descent\n",
        "    - Gradient Descent, Step-by-Step  by StatQuest w/ Josh Starmer. This will help you understand the gradient descent based optimization that happens underneath the hood of neural networks. It uses a non-neural network example, which I believe is a gentler introduction. You will hear me refer to this technique as \"vanilla\" gradient descent. \n",
        "    - Stochastic Gradient Descent, Clearly Explained!!! by StatQuest w/ Josh Starmer. This builds on the techniques in the previous video.  This technique is the one that is actually implemented inside modern 'nets. \n",
        "These are great resources to help you understand tomorrow's material at a deeper level. I highly recommend watching these ahead of tomorrow.\n",
        "\n",
        "  - Background Math\n",
        "    - Dot products and duality by 3Blue1Brown. Explains the core linear algebra operation happening in today's perceptron.\n",
        "The paradox of the derivative by 3Blue1Brown. Does a great job explaining a derivative. \n",
        "    - Visualizing the chain rule and product rule by 3Blue1Brown. Explains the black magic that happens within Stochastic Gradient Descent. \n",
        "These math resources are very much optional. They can be very heady, but I encourage you to explore. Your understanding of neural networks will greatly increase if you understand this math background.\n",
        "\n",
        "\n"
      ]
    }
  ]
}